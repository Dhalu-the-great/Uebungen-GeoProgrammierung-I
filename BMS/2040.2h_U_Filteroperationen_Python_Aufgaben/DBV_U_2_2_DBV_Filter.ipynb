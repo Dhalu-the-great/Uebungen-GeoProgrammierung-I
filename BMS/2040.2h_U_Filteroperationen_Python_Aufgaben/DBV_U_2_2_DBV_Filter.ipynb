{
 "cells": [
  {
   "attachments": {},
   "cell_type": "markdown",
   "metadata": {},
   "source": [
    "# Modul 2040.2 Bildsensorik & Bildverarbeitung\n",
    "## Digitale Bildverarbeitung mit Python - Filteroperationen\n",
    "\n",
    "### Stephan Nebiker, 15.05.2019"
   ]
  },
  {
   "cell_type": "markdown",
   "metadata": {},
   "source": [
    "# Übung Filteroperationen - Teil 2: Verwendung von scikit-Filtern\n",
    "\n",
    "Im zweiten Übungsteil wenden Sie mithilfe von vordefinierten Funktionen von scikit-image verschiedene Filter auf Grauwertbilder an."
   ]
  },
  {
   "cell_type": "code",
   "execution_count": null,
   "metadata": {},
   "outputs": [],
   "source": [
    "# Laden der erforderlichen Pakete\n",
    "from skimage import data\n",
    "from skimage import io\n",
    "from skimage import util\n",
    "from skimage import filters\n",
    "import numpy as np\n",
    "import matplotlib.pyplot as plt\n"
   ]
  },
  {
   "cell_type": "markdown",
   "metadata": {},
   "source": [
    "### Integrierte Glättungsfilter: z.B. Median-Filter und Gauss-Filter"
   ]
  },
  {
   "cell_type": "code",
   "execution_count": null,
   "metadata": {},
   "outputs": [],
   "source": [
    "# Bild laden und verrauschen (Salt & Pepper Rauschen)\n",
    "# Tipp: verwenden Sie dazu die skimage Funktion util.random_noise()\n",
    "\n",
    "input_noisy = # TODO\n",
    "\n",
    "# Bild beschriften und darstellen\n",
    "plt.figure()\n",
    "plt.title('Input-Bild (verrauscht)')\n",
    "\n",
    "io.imshow(input_noisy)\n",
    "io.show()"
   ]
  },
  {
   "cell_type": "code",
   "execution_count": null,
   "metadata": {},
   "outputs": [],
   "source": [
    "# Median-Filterung des verrauschten Inputs-Bilds\n",
    "# Tipp: verwenden Sie die Funktion filters.median()\n",
    "\n",
    "median_filtered = # TODO\n",
    "\n",
    "# Resultat beschriften und darstellen)\n",
    "# TODO"
   ]
  },
  {
   "cell_type": "code",
   "execution_count": null,
   "metadata": {},
   "outputs": [],
   "source": [
    "# Bild laden und verrauschen - diesmal mit Zufallsrauschen\n",
    "input_noisy = # TODO\n",
    "\n",
    "# Resultat beschriften und darstellen\n",
    "# TODO"
   ]
  },
  {
   "cell_type": "code",
   "execution_count": null,
   "metadata": {},
   "outputs": [],
   "source": [
    "# Gauss-Filterung auf des zufällig verrauschte Bild anwenden\n",
    "\n",
    "gaussian_filtered = # TODO\n",
    "\n",
    "# Resultat beschriften und darstellen\n",
    "# TODO\n"
   ]
  },
  {
   "cell_type": "markdown",
   "metadata": {},
   "source": [
    "### Kantenfilter - Prewitt\n",
    "Scikit-image enthält verschiedene Varianten des Prewitt-Filters (horizontal, vertikal und kombiniert). Testen Sie den Effekt dieser verschiedenen Prewitt-Varianten und verwenden Sie dazu in einem ersten Beispiel 1) das Schachbrettbild und in einem zweiten Beispiel 2) das Münzenbild aus der scikit-image-Bibliothek."
   ]
  },
  {
   "cell_type": "code",
   "execution_count": null,
   "metadata": {},
   "outputs": [],
   "source": [
    "# 1) Prewitt-Filterung mit Schachbrettbild\n",
    "\n",
    "# Inputbild laden\n",
    "input_image = data.checkerboard()\n",
    "\n",
    "# Verschiedene Varianten berechnen\n",
    "prewitt_h = filters.prewitt_h(input_image)\n",
    "prewitt_v = filters.prewitt_v(input_image)\n",
    "prewitt = filters.prewitt(input_image)\n",
    "\n",
    "# Inputbild und Resultate darstellen\n",
    "# z.B. in einem Plot mit 2 Zeilen und 2 Spalten\n",
    "plt.figure(figsize=(10,9))\n",
    "\n",
    "plt.subplot(221)\n",
    "io.imshow(input_image)\n",
    "\n",
    "plt.subplot(222)\n",
    "io.imshow(prewitt_h)\n",
    "\n",
    "plt.subplot(223)\n",
    "io.imshow(prewitt_v)\n",
    "\n",
    "plt.subplot(224)\n",
    "io.imshow(prewitt)\n",
    "\n",
    "io.show()"
   ]
  },
  {
   "cell_type": "code",
   "execution_count": null,
   "metadata": {},
   "outputs": [],
   "source": [
    "# 1) Prewitt-Filterung mit Münzenbild\n",
    "\n",
    "# Inputbild laden\n",
    "# TODO\n",
    "\n",
    "# Verschiedene Varianten berechnen\n",
    "prewitt_h = # TODO\n",
    "# TODO ...\n",
    "\n",
    "# Inputbild und Resultate darstellen (2 x 2 Plot)\n",
    "# TODO\n"
   ]
  },
  {
   "cell_type": "markdown",
   "metadata": {},
   "source": [
    "### Kantenfilter - Sobel\n",
    "Wenden Sie nun die verschiedenen Varianten des Sobel-Filters auf das Münzenbild an."
   ]
  },
  {
   "cell_type": "code",
   "execution_count": null,
   "metadata": {},
   "outputs": [],
   "source": [
    "# Sobel-Kantenfilter\n",
    "input_image = # TODO\n",
    "\n",
    "# Verschiedene Varianten berechnen\n",
    "sobel_h = # TODO\n",
    "# TODO ...\n",
    "\n",
    "# Inputbild und Resultate darstellen (2 x 2 Plot)\n",
    "# TODO"
   ]
  },
  {
   "attachments": {},
   "cell_type": "markdown",
   "metadata": {},
   "source": [
    "### Kantenfilter - Vergleich von Roberts- und Sobel-Filter\n",
    "Wenden Sie nun den Roberts Edge Detector und den Sobel-Filter auf das Kmeramann-Bild *camera* an. Vgl. auch: [SciKit-Image](https://scikit-image.org/docs/dev/auto_examples/edges/plot_edge_filter.html#sphx-glr-auto-examples-edges-plot-edge-filter-py)"
   ]
  },
  {
   "cell_type": "code",
   "execution_count": null,
   "metadata": {},
   "outputs": [],
   "source": [
    "# Vergleich zweier Kantenfilter\n",
    "\n",
    "# Inputbild laden\n",
    "# TODO\n",
    "\n",
    "# Berechnung der zwei gefilterten Bilder \n",
    "edge_roberts = # TODO\n",
    "edge_sobel = # TODO\n",
    "\n",
    "# Resultate beschriften und nebeneinander darstellen\n",
    "# TODO ..."
   ]
  },
  {
   "cell_type": "markdown",
   "metadata": {},
   "source": [
    "### Optional: Laplace-Kantenfilter\n",
    "Verwenden Sie wiederum das Kameramann-Bild"
   ]
  },
  {
   "cell_type": "code",
   "execution_count": null,
   "metadata": {},
   "outputs": [],
   "source": [
    "# Inputbild laden\n",
    "# TODO\n",
    "\n",
    "# Laplace-Filterung berechnen\n",
    "# TODO\n",
    "\n",
    "# Resultat darstellen\n",
    "# TODO"
   ]
  },
  {
   "attachments": {},
   "cell_type": "markdown",
   "metadata": {},
   "source": [
    "### Canny Filter\n",
    "\n",
    "Der Canny Filter ist ein sehr mächtiger, mehrstufiger Kantendetektor. Der Canny Operator verwendet die Ableitung eines Gauss-Filters zur Berechnung des Gradienten-Betrags. Dadurch wird der Effekt das Bildrauschens reduziert. Anschliessend werden potentielle Kanten auf Pixelbreite 1 ausgedünnt.\n",
    "\n",
    "Der Canny-Operator hat drei variable Parameter: die Breite des Gauss-Operators (je verrauschter das Bild, desto breiter) sowie die untere und obere Grenze für die Ausdünnung. Weitere Infos: [SciKit-Image](https://scikit-image.org/docs/dev/auto_examples/edges/plot_canny.html?highlight=canny)\n",
    "\n",
    "**Aufgabe 1:** Wenden Sie  den Canny Filter auf das Bild *cameraman* an: 1) mit den Default-Werten, 2) mit einem Sigma-Wert=3 und vergleichen Sie das Resultat"
   ]
  },
  {
   "cell_type": "code",
   "execution_count": null,
   "metadata": {},
   "outputs": [],
   "source": [
    "# Canny-Filter\n",
    "# Hinweis: erfordert den Import des zusätzlichen Pakets 'feature' aus skimage\n",
    "from skimage import feature\n",
    "\n",
    "# Inputbild laden\n",
    "input_image = # TODO\n",
    "\n",
    "# Canny-Filter mit Standardeinstellungen anwenden\n",
    "canny1 = # TODO\n",
    "\n",
    "# Canny-Filter mit sigma=3 anwenden\n",
    "canny2 = # TODO\n",
    "\n",
    "#Resultate darstellen\n",
    "# TODO"
   ]
  },
  {
   "cell_type": "markdown",
   "metadata": {},
   "source": [
    "**Aufgabe 2:** Laden Sie ein eigenes Bild und wenden Sie den Canny Filter auf das Bild an.\n",
    "\n",
    "**Wichtig:** Laden Sie Ihr eigenes Bild ebenfalls auf Moodle hoch."
   ]
  },
  {
   "cell_type": "code",
   "execution_count": null,
   "metadata": {},
   "outputs": [],
   "source": [
    "# Canny-Filterung auf eigenes Bild anwenden\n",
    "# TODO"
   ]
  }
 ],
 "metadata": {
  "kernelspec": {
   "display_name": "Python 3",
   "language": "python",
   "name": "python3"
  },
  "language_info": {
   "codemirror_mode": {
    "name": "ipython",
    "version": 3
   },
   "file_extension": ".py",
   "mimetype": "text/x-python",
   "name": "python",
   "nbconvert_exporter": "python",
   "pygments_lexer": "ipython3",
   "version": "3.9.12"
  }
 },
 "nbformat": 4,
 "nbformat_minor": 2
}
